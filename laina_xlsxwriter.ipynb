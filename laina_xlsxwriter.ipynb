{
 "cells": [
  {
   "cell_type": "code",
   "execution_count": 1,
   "metadata": {},
   "outputs": [
    {
     "name": "stdout",
     "output_type": "stream",
     "text": [
      "Päivitetty 2025-10-19 / Aki Taanila\n"
     ]
    }
   ],
   "source": [
    "from datetime import datetime\n",
    "print(f'Päivitetty {datetime.now().date()} / Aki Taanila')"
   ]
  },
  {
   "cell_type": "markdown",
   "metadata": {},
   "source": [
    "# Annuiteettilainojen havainnollistaminen ja vertailu\n",
    "\n",
    "Tässä muistiossa tarkastellaan ja vertaillaan kuukausittain lyhennettäviä annuitettilainoja. Tulokset kirjoitetaan Excel-tiedostoon pandas-paketin **to_excel**-funktiolla.  Kirjoittimena käytetään **xlsxwriter**ia.\n",
    "\n",
    "Suorituksen jälkeen **laina.xlsx**-tiedosto löytyy samasta hakemistosta kuin tämä muistio. **Varoitus:** **Jos hakemistossa on aiemmin laina.xlsx-niminen tiedosto, niin se ylikirjoitetaan."
   ]
  },
  {
   "cell_type": "code",
   "execution_count": 2,
   "metadata": {},
   "outputs": [],
   "source": [
    "import pandas as pd\n",
    "from datetime import date\n",
    "import xlwings as xw\n",
    "import annuiteetti  #oletus: annuiteetti.py-moduuli on tallennettu samaan kansioon tämän muistion kanssa"
   ]
  },
  {
   "cell_type": "markdown",
   "metadata": {},
   "source": [
    "## Lähtötiedot\n",
    "\n",
    "Täydennä seuraavaan soluun lainan lähtötiedot:\n",
    "- korkokanta desimaalimuodossa; esimerkiksi ,0245 tarkoittaa 2,45 % korkokantaa.\n",
    "- aika_kuukausina: aseta laina-ajaksi 0, jos haluat laskea lainan pituuden maksuerän perusteella.\n",
    "- maksuerä: aseta maksueräksi 0, jos haluat laskea lainan maksuerän lainan pituuden perusteella."
   ]
  },
  {
   "cell_type": "code",
   "execution_count": 3,
   "metadata": {},
   "outputs": [],
   "source": [
    "aloituspäivä = date(2026, 1, 1)\n",
    "laina = 300000\n",
    "korkokanta = .0245\n",
    "aika_kuukausina = 0\n",
    "maksuerä = 1500"
   ]
  },
  {
   "cell_type": "markdown",
   "metadata": {},
   "source": [
    "## Lyhennystaulukon luonti\n",
    "\n",
    "Tässä luodaan lyhennystaulukko **annuiteetti.py**-moduulin **lyhennystaulukko**-funktiolla."
   ]
  },
  {
   "cell_type": "code",
   "execution_count": 4,
   "metadata": {},
   "outputs": [],
   "source": [
    "taulukko, tiedot = annuiteetti.lyhennystaulukko(aloituspäivä, laina, korkokanta, aika_kuukausina, maksuerä)"
   ]
  },
  {
   "cell_type": "markdown",
   "metadata": {},
   "source": [
    "## Vertailun lähtötiedot\n",
    "\n",
    "- aloituspäivä on sama kaikille vertailtaville lainoille.\n",
    "- lainat, korkokannat, ajat_kuukausina, maksuerät: kirjoita jokaiseen yhtä monta vaihtoehtoa. Vaihtoehtoja voit kirjoittaa enemmänkin kuin kolme.\n",
    "- jos ajat_kuukausina=0, niin vastaavan maksuerän pitää olla nollaa suurempi.\n",
    "- jos maksuerät=0, niin vastaavan ajat_kuukausina pitää olla nollaa suurempi."
   ]
  },
  {
   "cell_type": "code",
   "execution_count": 5,
   "metadata": {},
   "outputs": [],
   "source": [
    "aloituspäivä = date(2026, 1, 1)\n",
    "lainat = (300000, 300000, 300000)\n",
    "korkokannat = (.0245, .0245, .0245)\n",
    "ajat_kuukausina = (0, 0, 0)\n",
    "maksuerät = (1300, 1500, 1700)"
   ]
  },
  {
   "cell_type": "markdown",
   "metadata": {},
   "source": [
    "## Vertailu-taulukon luonti\n",
    "\n",
    "Tässä luodaan vertailu-taulukko **annuiteetti.py**-moduulin **lyhennystaulukko**-funktion avulla."
   ]
  },
  {
   "cell_type": "code",
   "execution_count": 6,
   "metadata": {},
   "outputs": [],
   "source": [
    "vertailu = pd.DataFrame(columns = ['Lainan suuruus', 'Korkokanta', 'Aika kuukausina', 'Maksuerä', \n",
    "                                   'Korot yhteensä', 'Viimeinen maksuerä'])\n",
    "for i in range(len(lainat)):    \n",
    "    v_taulukko, v_tiedot = annuiteetti.lyhennystaulukko(aloituspäivä=aloituspäivä, laina=lainat[i], korkokanta=korkokannat[i], \n",
    "                                            aika_kuukausina=ajat_kuukausina[i], maksuerä=maksuerät[i])\n",
    "    vertailu.loc[i] = v_tiedot.T"
   ]
  },
  {
   "cell_type": "markdown",
   "metadata": {},
   "source": [
    "## Lyhennystaulukko ja vertailu-taulukko Excel-tiedostoon\n",
    "\n",
    "Seuraavassa kirjoitetaan Excel-tiedostoon **pandas**-paketin **to_excel**-funktiolla käyttäen kirjoittimena **xlsxwriter**ia . Huomaa, että kirjoittaminen Excel-tiedostoon on teknisesti eri asia kuin tietojen kirjoittaminen auki olevaan Exceliin. **xlwings**-paketin toimintoja ei siis voi käyttää Excel-tiedostoon kirjoittamiseen.\n",
    "\n",
    "**xlsxwriter** on monipuolinen ja hyvin dokumentoitu paketti. Katso https://xlsxwriter.readthedocs.io/"
   ]
  },
  {
   "cell_type": "code",
   "execution_count": 7,
   "metadata": {},
   "outputs": [],
   "source": [
    "# xlsxwriter-kirjoittimen luonti\n",
    "writer = pd.ExcelWriter('laina.xlsx', engine='xlsxwriter')\n",
    "\n",
    "# lyhennystaulukon kirjoittaminen lyhennystaulukko-välilehdelle\n",
    "font_bold = writer.book.add_format({'bold':True})\n",
    "rivi = 2\n",
    "tiedot.to_excel(writer, sheet_name='lyhennystaulukko', startrow=rivi)\n",
    "taulukko.to_excel(writer, sheet_name='lyhennystaulukko', index=False, startrow=rivi+tiedot.shape[0]+2)\n",
    "writer.sheets['lyhennystaulukko'].write('A1', 'Annuiteettilainan lyhennystaulukko', font_bold)\n",
    "writer.sheets['lyhennystaulukko'].autofit()\n",
    "\n",
    "# Vertailu-taulukon kirjoittaminen vertailu-välilehdelle\n",
    "vertailu.to_excel(writer, sheet_name='vertailu', index=False, startrow=rivi)\n",
    "writer.sheets['vertailu'].write('A1', 'Vaihtoehtojen vertailu', font_bold)\n",
    "writer.sheets['vertailu'].autofit()\n",
    "writer.close()"
   ]
  }
 ],
 "metadata": {
  "kernelspec": {
   "display_name": "Python 3 (ipykernel)",
   "language": "python",
   "name": "python3"
  },
  "language_info": {
   "codemirror_mode": {
    "name": "ipython",
    "version": 3
   },
   "file_extension": ".py",
   "mimetype": "text/x-python",
   "name": "python",
   "nbconvert_exporter": "python",
   "pygments_lexer": "ipython3",
   "version": "3.13.2"
  }
 },
 "nbformat": 4,
 "nbformat_minor": 4
}
