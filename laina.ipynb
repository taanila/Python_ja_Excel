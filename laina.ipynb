{
 "cells": [
  {
   "cell_type": "code",
   "execution_count": 1,
   "metadata": {},
   "outputs": [
    {
     "name": "stdout",
     "output_type": "stream",
     "text": [
      "Päivitetty 2025-10-19 / Aki Taanila\n"
     ]
    }
   ],
   "source": [
    "from datetime import datetime\n",
    "print(f'Päivitetty {datetime.now().date()} / Aki Taanila')"
   ]
  },
  {
   "cell_type": "markdown",
   "metadata": {},
   "source": [
    "# Annuiteettilainojen havainnollistaminen ja vertailu\n",
    "\n",
    "Tässä muistiossa tarkastellaan ja vertaillaan kuukausittain lyhennettäviä annuitettilainoja."
   ]
  },
  {
   "cell_type": "code",
   "execution_count": 2,
   "metadata": {},
   "outputs": [],
   "source": [
    "# Tarvittavien pakettien ja toimintojen tuonti\n",
    "import pandas as pd\n",
    "from datetime import date\n",
    "import annuiteetti #oletus: annuiteetti.py tallennettu samaan kansioon tämän muistion kanssa"
   ]
  },
  {
   "cell_type": "markdown",
   "metadata": {},
   "source": [
    "## Lähtötiedot\n",
    "\n",
    "Täydennä seuraavaan soluun lainan lähtötiedot:\n",
    "- korkokanta desimaalimuodossa; esimerkiksi ,0245 tarkoittaa 2,45 % korkokantaa.\n",
    "- aika_kuukausina: aseta laina-ajaksi 0, jos haluat laskea lainan pituuden maksuerän perusteella.\n",
    "- maksuerä: aseta maksueräksi 0, jos haluat laskea lainan maksuerän lainan pituuden perusteella."
   ]
  },
  {
   "cell_type": "code",
   "execution_count": 3,
   "metadata": {},
   "outputs": [],
   "source": [
    "aloituspäivä = date(2026, 1, 1)\n",
    "laina = 300000\n",
    "korkokanta = .0245\n",
    "aika_kuukausina = 0\n",
    "maksuerä = 1500"
   ]
  },
  {
   "cell_type": "markdown",
   "metadata": {},
   "source": [
    "## Lyhennystaulukko ja muut tiedot"
   ]
  },
  {
   "cell_type": "code",
   "execution_count": 4,
   "metadata": {},
   "outputs": [],
   "source": [
    "# Lyhennystaulukko ja lainan yleiset tiedot lyhennystaulukko-funktiota käyttäen\n",
    "taulukko, tiedot = annuiteetti.lyhennystaulukko(aloituspäivä, laina, korkokanta, aika_kuukausina, maksuerä)"
   ]
  },
  {
   "cell_type": "code",
   "execution_count": 5,
   "metadata": {},
   "outputs": [
    {
     "data": {
      "text/plain": [
       "Lainan suuruus          300000\n",
       "Korkokanta              0.0245\n",
       "Aika kuukausina            258\n",
       "Maksuerä                  1500\n",
       "Korot yhteensä        85969.87\n",
       "Viimeinen maksuerä      2047-6\n",
       "dtype: object"
      ]
     },
     "execution_count": 5,
     "metadata": {},
     "output_type": "execute_result"
    }
   ],
   "source": [
    "# Lainan yleiset tiedot\n",
    "tiedot"
   ]
  },
  {
   "cell_type": "code",
   "execution_count": 6,
   "metadata": {},
   "outputs": [
    {
     "data": {
      "text/html": [
       "<div>\n",
       "<style scoped>\n",
       "    .dataframe tbody tr th:only-of-type {\n",
       "        vertical-align: middle;\n",
       "    }\n",
       "\n",
       "    .dataframe tbody tr th {\n",
       "        vertical-align: top;\n",
       "    }\n",
       "\n",
       "    .dataframe thead th {\n",
       "        text-align: right;\n",
       "    }\n",
       "</style>\n",
       "<table border=\"1\" class=\"dataframe\">\n",
       "  <thead>\n",
       "    <tr style=\"text-align: right;\">\n",
       "      <th></th>\n",
       "      <th>Periodi</th>\n",
       "      <th>Kuukausi</th>\n",
       "      <th>Laina ennen lyhennystä</th>\n",
       "      <th>Maksuerä</th>\n",
       "      <th>Korko</th>\n",
       "      <th>Lyhennys</th>\n",
       "      <th>Laina lyhennyksen jälkeen</th>\n",
       "    </tr>\n",
       "  </thead>\n",
       "  <tbody>\n",
       "    <tr>\n",
       "      <th>0</th>\n",
       "      <td>1.0</td>\n",
       "      <td>2026-1</td>\n",
       "      <td>300000.00</td>\n",
       "      <td>1500.00</td>\n",
       "      <td>612.50</td>\n",
       "      <td>887.50</td>\n",
       "      <td>299112.50</td>\n",
       "    </tr>\n",
       "    <tr>\n",
       "      <th>1</th>\n",
       "      <td>2.0</td>\n",
       "      <td>2026-2</td>\n",
       "      <td>299112.50</td>\n",
       "      <td>1500.00</td>\n",
       "      <td>610.69</td>\n",
       "      <td>889.31</td>\n",
       "      <td>298223.19</td>\n",
       "    </tr>\n",
       "    <tr>\n",
       "      <th>2</th>\n",
       "      <td>3.0</td>\n",
       "      <td>2026-3</td>\n",
       "      <td>298223.19</td>\n",
       "      <td>1500.00</td>\n",
       "      <td>608.87</td>\n",
       "      <td>891.13</td>\n",
       "      <td>297332.06</td>\n",
       "    </tr>\n",
       "    <tr>\n",
       "      <th>3</th>\n",
       "      <td>4.0</td>\n",
       "      <td>2026-4</td>\n",
       "      <td>297332.06</td>\n",
       "      <td>1500.00</td>\n",
       "      <td>607.05</td>\n",
       "      <td>892.95</td>\n",
       "      <td>296439.11</td>\n",
       "    </tr>\n",
       "    <tr>\n",
       "      <th>4</th>\n",
       "      <td>5.0</td>\n",
       "      <td>2026-5</td>\n",
       "      <td>296439.11</td>\n",
       "      <td>1500.00</td>\n",
       "      <td>605.23</td>\n",
       "      <td>894.77</td>\n",
       "      <td>295544.34</td>\n",
       "    </tr>\n",
       "    <tr>\n",
       "      <th>...</th>\n",
       "      <td>...</td>\n",
       "      <td>...</td>\n",
       "      <td>...</td>\n",
       "      <td>...</td>\n",
       "      <td>...</td>\n",
       "      <td>...</td>\n",
       "      <td>...</td>\n",
       "    </tr>\n",
       "    <tr>\n",
       "      <th>254</th>\n",
       "      <td>255.0</td>\n",
       "      <td>2047-3</td>\n",
       "      <td>4947.74</td>\n",
       "      <td>1500.00</td>\n",
       "      <td>10.10</td>\n",
       "      <td>1489.90</td>\n",
       "      <td>3457.84</td>\n",
       "    </tr>\n",
       "    <tr>\n",
       "      <th>255</th>\n",
       "      <td>256.0</td>\n",
       "      <td>2047-4</td>\n",
       "      <td>3457.84</td>\n",
       "      <td>1500.00</td>\n",
       "      <td>7.06</td>\n",
       "      <td>1492.94</td>\n",
       "      <td>1964.90</td>\n",
       "    </tr>\n",
       "    <tr>\n",
       "      <th>256</th>\n",
       "      <td>257.0</td>\n",
       "      <td>2047-5</td>\n",
       "      <td>1964.90</td>\n",
       "      <td>1500.00</td>\n",
       "      <td>4.01</td>\n",
       "      <td>1495.99</td>\n",
       "      <td>468.91</td>\n",
       "    </tr>\n",
       "    <tr>\n",
       "      <th>257</th>\n",
       "      <td>258.0</td>\n",
       "      <td>2047-6</td>\n",
       "      <td>468.91</td>\n",
       "      <td>469.87</td>\n",
       "      <td>0.96</td>\n",
       "      <td>468.91</td>\n",
       "      <td>0.00</td>\n",
       "    </tr>\n",
       "    <tr>\n",
       "      <th>Yhteensä</th>\n",
       "      <td>NaN</td>\n",
       "      <td>NaN</td>\n",
       "      <td>NaN</td>\n",
       "      <td>385969.87</td>\n",
       "      <td>85969.87</td>\n",
       "      <td>300000.00</td>\n",
       "      <td>NaN</td>\n",
       "    </tr>\n",
       "  </tbody>\n",
       "</table>\n",
       "<p>259 rows × 7 columns</p>\n",
       "</div>"
      ],
      "text/plain": [
       "          Periodi Kuukausi  Laina ennen lyhennystä   Maksuerä     Korko  \\\n",
       "0             1.0   2026-1               300000.00    1500.00    612.50   \n",
       "1             2.0   2026-2               299112.50    1500.00    610.69   \n",
       "2             3.0   2026-3               298223.19    1500.00    608.87   \n",
       "3             4.0   2026-4               297332.06    1500.00    607.05   \n",
       "4             5.0   2026-5               296439.11    1500.00    605.23   \n",
       "...           ...      ...                     ...        ...       ...   \n",
       "254         255.0   2047-3                 4947.74    1500.00     10.10   \n",
       "255         256.0   2047-4                 3457.84    1500.00      7.06   \n",
       "256         257.0   2047-5                 1964.90    1500.00      4.01   \n",
       "257         258.0   2047-6                  468.91     469.87      0.96   \n",
       "Yhteensä      NaN      NaN                     NaN  385969.87  85969.87   \n",
       "\n",
       "           Lyhennys  Laina lyhennyksen jälkeen  \n",
       "0            887.50                  299112.50  \n",
       "1            889.31                  298223.19  \n",
       "2            891.13                  297332.06  \n",
       "3            892.95                  296439.11  \n",
       "4            894.77                  295544.34  \n",
       "...             ...                        ...  \n",
       "254         1489.90                    3457.84  \n",
       "255         1492.94                    1964.90  \n",
       "256         1495.99                     468.91  \n",
       "257          468.91                       0.00  \n",
       "Yhteensä  300000.00                        NaN  \n",
       "\n",
       "[259 rows x 7 columns]"
      ]
     },
     "execution_count": 6,
     "metadata": {},
     "output_type": "execute_result"
    }
   ],
   "source": [
    "# lyhennustaulukko\n",
    "taulukko"
   ]
  },
  {
   "cell_type": "markdown",
   "metadata": {},
   "source": [
    "## Vertailun lähtötiedot\n",
    "\n",
    "- aloituspäivä on sama kaikille vertailtaville lainoille.\n",
    "- lainat, korkokannat, ajat_kuukausina, maksuerät: kirjoita jokaiseen yhtä monta vaihtoehtoa. Vaihtoehtoja voit kirjoittaa enemmänkin kuin kolme.\n",
    "- jos ajat_kuukausina=0, niin vastaavan maksuerän täytyy olla nollaa suurempi.\n",
    "- jos maksuerät=0, niin vastaavan ajat_kuukausina täytyy olla nollaa suurempi."
   ]
  },
  {
   "cell_type": "code",
   "execution_count": 7,
   "metadata": {},
   "outputs": [],
   "source": [
    "aloituspäivä = date(2026, 1, 1)\n",
    "lainat = (300000, 300000, 300000)\n",
    "korkokannat = (.0245, .0245, .0245)\n",
    "ajat_kuukausina = (0, 0, 0)\n",
    "maksuerät = (1300, 1500, 1700)"
   ]
  },
  {
   "cell_type": "markdown",
   "metadata": {},
   "source": [
    "## Vertailu"
   ]
  },
  {
   "cell_type": "code",
   "execution_count": 8,
   "metadata": {},
   "outputs": [
    {
     "data": {
      "text/html": [
       "<div>\n",
       "<style scoped>\n",
       "    .dataframe tbody tr th:only-of-type {\n",
       "        vertical-align: middle;\n",
       "    }\n",
       "\n",
       "    .dataframe tbody tr th {\n",
       "        vertical-align: top;\n",
       "    }\n",
       "\n",
       "    .dataframe thead th {\n",
       "        text-align: right;\n",
       "    }\n",
       "</style>\n",
       "<table border=\"1\" class=\"dataframe\">\n",
       "  <thead>\n",
       "    <tr style=\"text-align: right;\">\n",
       "      <th></th>\n",
       "      <th>Lainan suuruus</th>\n",
       "      <th>Korkokanta</th>\n",
       "      <th>Aika kuukausina</th>\n",
       "      <th>Maksuerä</th>\n",
       "      <th>Korot yhteensä</th>\n",
       "      <th>Viimeinen maksuerä</th>\n",
       "    </tr>\n",
       "  </thead>\n",
       "  <tbody>\n",
       "    <tr>\n",
       "      <th>0</th>\n",
       "      <td>300000</td>\n",
       "      <td>0.0245</td>\n",
       "      <td>313</td>\n",
       "      <td>1300</td>\n",
       "      <td>106051.04</td>\n",
       "      <td>2052-1</td>\n",
       "    </tr>\n",
       "    <tr>\n",
       "      <th>1</th>\n",
       "      <td>300000</td>\n",
       "      <td>0.0245</td>\n",
       "      <td>258</td>\n",
       "      <td>1500</td>\n",
       "      <td>85969.87</td>\n",
       "      <td>2047-6</td>\n",
       "    </tr>\n",
       "    <tr>\n",
       "      <th>2</th>\n",
       "      <td>300000</td>\n",
       "      <td>0.0245</td>\n",
       "      <td>220</td>\n",
       "      <td>1700</td>\n",
       "      <td>72364.77</td>\n",
       "      <td>2044-4</td>\n",
       "    </tr>\n",
       "  </tbody>\n",
       "</table>\n",
       "</div>"
      ],
      "text/plain": [
       "  Lainan suuruus Korkokanta Aika kuukausina Maksuerä Korot yhteensä  \\\n",
       "0         300000     0.0245             313     1300      106051.04   \n",
       "1         300000     0.0245             258     1500       85969.87   \n",
       "2         300000     0.0245             220     1700       72364.77   \n",
       "\n",
       "  Viimeinen maksuerä  \n",
       "0             2052-1  \n",
       "1             2047-6  \n",
       "2             2044-4  "
      ]
     },
     "execution_count": 8,
     "metadata": {},
     "output_type": "execute_result"
    }
   ],
   "source": [
    "vertailu = pd.DataFrame(columns = ['Lainan suuruus', 'Korkokanta', 'Aika kuukausina', 'Maksuerä', \n",
    "                                   'Korot yhteensä', 'Viimeinen maksuerä'])\n",
    "for i in range(len(lainat)):    \n",
    "    v_taulukko, v_tiedot = annuiteetti.lyhennystaulukko(aloituspäivä=aloituspäivä, laina=lainat[i], korkokanta=korkokannat[i], \n",
    "                                            aika_kuukausina=ajat_kuukausina[i], maksuerä=maksuerät[i])\n",
    "    vertailu.loc[i] = v_tiedot.T\n",
    "    \n",
    "vertailu"
   ]
  }
 ],
 "metadata": {
  "kernelspec": {
   "display_name": "Python 3 (ipykernel)",
   "language": "python",
   "name": "python3"
  },
  "language_info": {
   "codemirror_mode": {
    "name": "ipython",
    "version": 3
   },
   "file_extension": ".py",
   "mimetype": "text/x-python",
   "name": "python",
   "nbconvert_exporter": "python",
   "pygments_lexer": "ipython3",
   "version": "3.13.2"
  }
 },
 "nbformat": 4,
 "nbformat_minor": 4
}
