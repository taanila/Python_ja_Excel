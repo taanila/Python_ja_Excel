{
 "cells": [
  {
   "cell_type": "code",
   "execution_count": 1,
   "metadata": {},
   "outputs": [
    {
     "name": "stdout",
     "output_type": "stream",
     "text": [
      "Päivitetty 2025-10-19 / Aki Taanila\n"
     ]
    }
   ],
   "source": [
    "from datetime import datetime\n",
    "print(f'Päivitetty {datetime.now().date()} / Aki Taanila')"
   ]
  },
  {
   "cell_type": "markdown",
   "metadata": {},
   "source": [
    "# Annuiteettilainojen havainnollistaminen ja vertailu\n",
    "\n",
    "Tässä muistiossa tarkastellaan ja vertaillaan kuukausittain lyhennettäviä annuitettilainoja. Tulokset viedään Exceliin **xlwings**-paketin **view**-funktiolla."
   ]
  },
  {
   "cell_type": "code",
   "execution_count": 2,
   "metadata": {},
   "outputs": [],
   "source": [
    "import pandas as pd\n",
    "from datetime import date\n",
    "import xlwings as xw\n",
    "import annuiteetti  #oletus: annuiteetti.py-moduuli on tallennettu samaan kansioon tämän muistion kanssa"
   ]
  },
  {
   "cell_type": "markdown",
   "metadata": {},
   "source": [
    "## Lähtötiedot\n",
    "\n",
    "Täydennä seuraavaan soluun lainan lähtötiedot:\n",
    "- korkokanta desimaalimuodossa; esimerkiksi ,0245 tarkoittaa 2,45 % korkokantaa.\n",
    "- aika_kuukausina: aseta laina-ajaksi 0, jos haluat laskea lainan pituuden maksuerän perusteella.\n",
    "- maksuerä: aseta maksueräksi 0, jos haluat laskea lainan maksuerän lainan pituuden perusteella."
   ]
  },
  {
   "cell_type": "code",
   "execution_count": 3,
   "metadata": {},
   "outputs": [],
   "source": [
    "aloituspäivä = date(2026, 1, 1)\n",
    "laina = 300000\n",
    "korkokanta = .0245\n",
    "aika_kuukausina = 0\n",
    "maksuerä = 1500"
   ]
  },
  {
   "cell_type": "markdown",
   "metadata": {},
   "source": [
    "## Lyhennystaulukon luonti\n",
    "\n",
    "Tässä luodaan lyhennystaulukko **annuiteetti.py**-moduulin **lyhennystaulukko**-funktiolla."
   ]
  },
  {
   "cell_type": "code",
   "execution_count": 4,
   "metadata": {},
   "outputs": [],
   "source": [
    "taulukko, tiedot = annuiteetti.lyhennystaulukko(aloituspäivä, laina, korkokanta, aika_kuukausina, maksuerä)"
   ]
  },
  {
   "cell_type": "markdown",
   "metadata": {},
   "source": [
    "## Vertailun lähtötiedot\n",
    "\n",
    "- aloituspäivä on sama kaikille vertailtaville lainoille.\n",
    "- lainat, korkokannat, ajat_kuukausina, maksuerät: kirjoita jokaiseen yhtä monta vaihtoehtoa. Vaihtoehtoja voit kirjoittaa enemmänkin kuin kolme.\n",
    "- jos ajat_kuukausina=0, niin vastaavan maksuerän pitää olla nollaa suurempi.\n",
    "- jos maksuerät=0, niin vastaavan ajat_kuukausina pitää olla nollaa suurempi."
   ]
  },
  {
   "cell_type": "code",
   "execution_count": 5,
   "metadata": {},
   "outputs": [],
   "source": [
    "aloituspäivä = date(2026, 1, 1)\n",
    "lainat = (300000, 280000, 260000)\n",
    "korkokannat = (.0245, .0245, .0245)\n",
    "ajat_kuukausina = (0, 0, 0)\n",
    "maksuerät = (1300, 1500, 1700)"
   ]
  },
  {
   "cell_type": "markdown",
   "metadata": {},
   "source": [
    "## Vertailu-taulukon luonti\n",
    "\n",
    "Tässä luodaan vertailu-taulukko **annuiteetti.py**-moduulin **lyhennystaulukko**-funktion avulla."
   ]
  },
  {
   "cell_type": "code",
   "execution_count": 6,
   "metadata": {},
   "outputs": [],
   "source": [
    "vertailu = pd.DataFrame(columns = ['Lainan suuruus', 'Korkokanta', 'Aika kuukausina', 'Maksuerä', \n",
    "                                   'Korot yhteensä', 'Viimeinen maksuerä'])\n",
    "for i in range(len(lainat)):    \n",
    "    v_taulukko, v_tiedot = annuiteetti.lyhennystaulukko(aloituspäivä=aloituspäivä, laina=lainat[i], korkokanta=korkokannat[i], \n",
    "                                            aika_kuukausina=ajat_kuukausina[i], maksuerä=maksuerät[i])\n",
    "    vertailu.loc[i] = v_tiedot.T"
   ]
  },
  {
   "cell_type": "markdown",
   "metadata": {},
   "source": [
    "## Lyhennystaulukko ja vertailu-taulukko Exceliin\n",
    "\n",
    "Seuraavassa käytetään **xlwings**-paketin **view**-funktiota. Tämä on nopein tapa siirtää dataframe Exceliin. Lisätietoa https://docs.xlwings.org/en/latest/jupyternotebooks.html"
   ]
  },
  {
   "cell_type": "code",
   "execution_count": 7,
   "metadata": {},
   "outputs": [],
   "source": [
    "# view-funktio avaa Excelin ja kirjoittaa lyhennystaulukon Exceliin\n",
    "xw.view(taulukko)\n",
    "\n",
    "# Excel-työkirjan nimeksi wb\n",
    "wb = xw.books.active\n",
    "\n",
    "# Taulukkovälilehden nimeksi 'lyhennystaulukko'\n",
    "wb.sheets.active.name = 'lyhennystaulukko'\n",
    "\n",
    "# Lainojen vertailu vertailu-nimiselle taulukkovälilehdelle ilman table-ominaisuutta\n",
    "xw.view(vertailu, wb.sheets.add(name='vertailu', after = wb.sheets[-1]), table=False)"
   ]
  }
 ],
 "metadata": {
  "kernelspec": {
   "display_name": "Python 3 (ipykernel)",
   "language": "python",
   "name": "python3"
  },
  "language_info": {
   "codemirror_mode": {
    "name": "ipython",
    "version": 3
   },
   "file_extension": ".py",
   "mimetype": "text/x-python",
   "name": "python",
   "nbconvert_exporter": "python",
   "pygments_lexer": "ipython3",
   "version": "3.13.2"
  }
 },
 "nbformat": 4,
 "nbformat_minor": 4
}
